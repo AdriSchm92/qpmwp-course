{
 "cells": [
  {
   "cell_type": "code",
   "execution_count": 3,
   "id": "97d3c489",
   "metadata": {},
   "outputs": [
    {
     "ename": "ModuleNotFoundError",
     "evalue": "No module named 'helper_functions'",
     "output_type": "error",
     "traceback": [
      "\u001b[1;31m---------------------------------------------------------------------------\u001b[0m",
      "\u001b[1;31mModuleNotFoundError\u001b[0m                       Traceback (most recent call last)",
      "Cell \u001b[1;32mIn[3], line 21\u001b[0m\n\u001b[0;32m     18\u001b[0m sys\u001b[38;5;241m.\u001b[39mpath\u001b[38;5;241m.\u001b[39mappend(src_path)\n\u001b[0;32m     20\u001b[0m \u001b[38;5;66;03m# Local modules imports\u001b[39;00m\n\u001b[1;32m---> 21\u001b[0m \u001b[38;5;28;01mfrom\u001b[39;00m\u001b[38;5;250m \u001b[39m\u001b[38;5;21;01mhelper_functions\u001b[39;00m\u001b[38;5;250m \u001b[39m\u001b[38;5;28;01mimport\u001b[39;00m load_data_spi, load_pickle\n\u001b[0;32m     22\u001b[0m \u001b[38;5;28;01mfrom\u001b[39;00m\u001b[38;5;250m \u001b[39m\u001b[38;5;21;01mestimation\u001b[39;00m\u001b[38;5;21;01m.\u001b[39;00m\u001b[38;5;21;01mcovariance\u001b[39;00m\u001b[38;5;250m \u001b[39m\u001b[38;5;28;01mimport\u001b[39;00m Covariance\n\u001b[0;32m     23\u001b[0m \u001b[38;5;28;01mfrom\u001b[39;00m\u001b[38;5;250m \u001b[39m\u001b[38;5;21;01mestimation\u001b[39;00m\u001b[38;5;21;01m.\u001b[39;00m\u001b[38;5;21;01mexpected_return\u001b[39;00m\u001b[38;5;250m \u001b[39m\u001b[38;5;28;01mimport\u001b[39;00m ExpectedReturn\n",
      "\u001b[1;31mModuleNotFoundError\u001b[0m: No module named 'helper_functions'"
     ]
    }
   ],
   "source": [
    "# Standard library imports\n",
    "import os\n",
    "import sys\n",
    "import copy\n",
    "from typing import Union, Optional\n",
    "\n",
    "# Third party imports\n",
    "import numpy as np\n",
    "import pandas as pd\n",
    "import matplotlib.pyplot as plt\n",
    "import matplotlib.dates as mdates\n",
    "import empyrical as ep\n",
    "\n",
    "# Add the project root directory to Python path\n",
    "project_root = os.path.dirname(os.path.dirname(os.getcwd()))   #<Change this path if needed>\n",
    "src_path = os.path.join(project_root, 'qpmwp-course\\\\src')    #<Change this path if needed>\n",
    "sys.path.append(project_root)\n",
    "sys.path.append(src_path)\n",
    "\n",
    "# Local modules imports\n",
    "from helper_functions import load_data_spi, load_pickle\n",
    "from estimation.covariance import Covariance\n",
    "from estimation.expected_return import ExpectedReturn\n",
    "from optimization.optimization import Optimization, Objective, MeanVariance\n",
    "from optimization.optimization_data import OptimizationData\n",
    "from optimization.constraints import Constraints\n",
    "from backtesting.backtest_item_builder_classes import (\n",
    "    SelectionItemBuilder,\n",
    "    OptimizationItemBuilder,\n",
    ")\n",
    "from backtesting.backtest_item_builder_functions import (\n",
    "    bibfn_selection_min_volume,\n",
    "    bibfn_selection_gaps,\n",
    "    bibfn_return_series,\n",
    "    bibfn_budget_constraint,\n",
    "    bibfn_box_constraints,\n",
    "    bibfn_size_dependent_upper_bounds,\n",
    ")\n",
    "from backtesting.backtest_data import BacktestData\n",
    "from backtesting.backtest_service import BacktestService\n",
    "from backtesting.backtest import Backtest"
   ]
  },
  {
   "cell_type": "code",
   "execution_count": 2,
   "id": "3d4275a0",
   "metadata": {},
   "outputs": [
    {
     "ename": "NameError",
     "evalue": "name 'BacktestData' is not defined",
     "output_type": "error",
     "traceback": [
      "\u001b[1;31m---------------------------------------------------------------------------\u001b[0m",
      "\u001b[1;31mNameError\u001b[0m                                 Traceback (most recent call last)",
      "Cell \u001b[1;32mIn[2], line 10\u001b[0m\n\u001b[0;32m      6\u001b[0m jkp_data \u001b[38;5;241m=\u001b[39m pd\u001b[38;5;241m.\u001b[39mread_parquet(path \u001b[38;5;241m=\u001b[39m \u001b[38;5;124mf\u001b[39m\u001b[38;5;124m'\u001b[39m\u001b[38;5;132;01m{\u001b[39;00mpath_to_data\u001b[38;5;132;01m}\u001b[39;00m\u001b[38;5;124mjkp_data.parquet\u001b[39m\u001b[38;5;124m'\u001b[39m)\n\u001b[0;32m      8\u001b[0m \u001b[38;5;66;03m# Instantiate the BacktestData class\u001b[39;00m\n\u001b[0;32m      9\u001b[0m \u001b[38;5;66;03m# and set the market data and jkp data as attributes\u001b[39;00m\n\u001b[1;32m---> 10\u001b[0m df1 \u001b[38;5;241m=\u001b[39m \u001b[43mBacktestData\u001b[49m()\n\u001b[0;32m     11\u001b[0m df1\u001b[38;5;241m.\u001b[39mmarket_data \u001b[38;5;241m=\u001b[39m market_data \u001b[38;5;66;03m# If the class \"BacktestData\" is used the attribute is always called \"market_data\" because it is defined like this within the class. If we want to use the function \"get_return_series\".\u001b[39;00m\n\u001b[0;32m     12\u001b[0m \u001b[38;5;66;03m#print(df1.market_data.head(10))\u001b[39;00m\n\u001b[0;32m     13\u001b[0m \u001b[38;5;66;03m#print(df1.market_data.tail(10))\u001b[39;00m\n",
      "\u001b[1;31mNameError\u001b[0m: name 'BacktestData' is not defined"
     ]
    }
   ],
   "source": [
    "# Load data\n",
    "path_to_data = \"C:/Users/admin/OneDrive/Dokumente/Studium UZH/Master/5. Semester/Quantitative Portfolio Management with Python/Assingments/4. Assingment/1. Daten erhalten/\" # <change this if necessary>\n",
    "\n",
    "# Load market and jkp data from parquet files\n",
    "market_data = pd.read_parquet(path = f'{path_to_data}market_data.parquet')\n",
    "jkp_data = pd.read_parquet(path = f'{path_to_data}jkp_data.parquet')\n",
    "\n",
    "# Instantiate the BacktestData class\n",
    "# and set the market data and jkp data as attributes\n",
    "df1 = BacktestData()\n",
    "df1.market_data = market_data # If the class \"BacktestData\" is used the attribute is always called \"market_data\" because it is defined like this within the class. If we want to use the function \"get_return_series\".\n",
    "#print(df1.market_data.head(10))\n",
    "#print(df1.market_data.tail(10))\n",
    "\n",
    "df1.jkp_data = jkp_data\n",
    "#print(df1.jkp_data.head(10))\n",
    "#print(df1.jkp_data.tail(10))\n",
    "\n",
    "# The dir() function returns a list of all attributes and methods of an object:\n",
    "print(dir(df1)) # Return it for the entire class \"BacktestData\".\n",
    "print(dir(df1.market_data)) # Return it for the specific DataFrame within the class \"BacktestData\".\n",
    "print(dir(df1.jkp_data)) # Return it for the specific DataFrame within the class \"BacktestData\".\n",
    "# These include:\n",
    "# - Attributes (like data, market_data, etc.)\n",
    "# - Methods (like get_return_series(), get_volume_series())\n",
    "# - Special methods (like __init__, __str__, etc.)\n",
    "\n",
    "# Get the return series:\n",
    "returns = df1.get_return_series()\n",
    "print(returns.head(10))\n",
    "print(returns.tail(10))\n",
    "\n",
    "# Get the volume series:\n",
    "volumes = df1.get_volume_series()\n",
    "print(volumes.head(10))\n",
    "print(volumes.tail(10))\n",
    "\n",
    "# Get the characteristic_series:\n",
    "print(df1.jkp_data.columns.tolist())\n",
    "z_scores = df1.get_characteristic_series(field=\"z_score\")\n",
    "print(z_scores.head(10))\n",
    "print(z_scores.tail(10))"
   ]
  }
 ],
 "metadata": {
  "kernelspec": {
   "display_name": "Python 3",
   "language": "python",
   "name": "python3"
  },
  "language_info": {
   "codemirror_mode": {
    "name": "ipython",
    "version": 3
   },
   "file_extension": ".py",
   "mimetype": "text/x-python",
   "name": "python",
   "nbconvert_exporter": "python",
   "pygments_lexer": "ipython3",
   "version": "3.11.9"
  }
 },
 "nbformat": 4,
 "nbformat_minor": 5
}
